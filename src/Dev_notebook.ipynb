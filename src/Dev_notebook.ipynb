{
 "metadata": {
  "name": "Dev_notebook"
 },
 "nbformat": 3,
 "nbformat_minor": 0,
 "worksheets": [
  {
   "cells": [
    {
     "cell_type": "markdown",
     "metadata": {},
     "source": [
      "# Find_overlap_read Development Notebook\n",
      "\n",
      "## Creation : 2014 / 12 / 05\n",
      "\n",
      "### Adrien Leger [adrien.leger@gmail.com](adrien.leger@gmail.com)"
     ]
    },
    {
     "cell_type": "markdown",
     "metadata": {},
     "source": [
      "Purpose = Develop a Python3 program to parse a BAM/SAM file(s) and extract reads overlapping given genomic coordinates + generating a report\n",
      "\n",
      "Using pysam 0.8.1 as the only dependencie"
     ]
    },
    {
     "cell_type": "code",
     "collapsed": false,
     "input": [
      "import pysam, csv"
     ],
     "language": "python",
     "metadata": {},
     "outputs": [],
     "prompt_number": 2
    },
    {
     "cell_type": "code",
     "collapsed": false,
     "input": [
      "with open(\"../test/ITR_coordinates.txt\", newline='') as csvfile:\n",
      "    reader = csv.reader(csvfile, delimiter='\\t')\n",
      "    for row in reader:\n",
      "        print (row)"
     ],
     "language": "python",
     "metadata": {},
     "outputs": [
      {
       "output_type": "stream",
       "stream": "stdout",
       "text": [
        "['SSV9K2-CMV-GFP-HygroTK-bGHpA', '500', '600']\n",
        "['SSV9K2-CMV-GFP-HygroTK-bGHpA', '4000', '4100']\n",
        "['SSV9K2-CMV-GFP-HygroTK-bGHpA', '4800', '4900']\n"
       ]
      }
     ],
     "prompt_number": 4
    },
    {
     "cell_type": "markdown",
     "metadata": {},
     "source": [
      "Draft a small object class to store basic interval information"
     ]
    },
    {
     "cell_type": "code",
     "collapsed": false,
     "input": [
      "class interval(object):\n",
      "    def __init__ (self, ref_name, start, end):\n",
      "        self.ref_name = ref_name\n",
      "        self.start = start\n",
      "        self.end = end\n",
      "    def __repr__(self):\n",
      "        return \"{} [{}:{}]\".format(self.ref_name, self.start, self.end)"
     ],
     "language": "python",
     "metadata": {},
     "outputs": [],
     "prompt_number": 11
    },
    {
     "cell_type": "code",
     "collapsed": false,
     "input": [
      "interval_list = []\n",
      "with open(\"../test/ITR_coordinates.txt\", newline='') as csvfile:\n",
      "    reader = csv.reader(csvfile, delimiter='\\t')\n",
      "    for row in reader:\n",
      "        interval_list.append(interval(row[0], row[1], row[2]))\n",
      "for i in interval_list:\n",
      "    print (i)"
     ],
     "language": "python",
     "metadata": {},
     "outputs": [
      {
       "output_type": "stream",
       "stream": "stdout",
       "text": [
        "SSV9K2-CMV-GFP-HygroTK-bGHpA [500:600]\n",
        "SSV9K2-CMV-GFP-HygroTK-bGHpA [4000:4100]\n",
        "SSV9K2-CMV-GFP-HygroTK-bGHpA [4800:4900]\n"
       ]
      }
     ],
     "prompt_number": 13
    },
    {
     "cell_type": "markdown",
     "metadata": {},
     "source": [
      "Hard code a more robust class in scr. A class Instance list track its own instance and class methods allow a global manipulation of Instances"
     ]
    },
    {
     "cell_type": "code",
     "collapsed": false,
     "input": [
      "from Interval import Interval"
     ],
     "language": "python",
     "metadata": {},
     "outputs": [],
     "prompt_number": 3
    },
    {
     "cell_type": "code",
     "collapsed": false,
     "input": [
      "Interval.resetInstances()\n",
      "\n",
      "with open(\"../test/ITR_coordinates.txt\", newline='') as csvfile:\n",
      "    reader = csv.reader(csvfile, delimiter='\\t')\n",
      "    for row in reader:\n",
      "        Interval(row[0], row[1], row[2])\n",
      "\n",
      "Interval.printInstances()\n",
      "Interval.countInstances()"
     ],
     "language": "python",
     "metadata": {},
     "outputs": [
      {
       "output_type": "stream",
       "stream": "stdout",
       "text": [
        "Clearing Reference instances list\n",
        "SSV9K2-CMV-GFP-HygroTK-bGHpA [200:600] = 0 overlapping read pairs\n",
        "SSV9K2-CMV-GFP-HygroTK-bGHpA [4050:4100] = 0 overlapping read pairs\n",
        "SSV9K2-CMV-GFP-HygroTK-bGHpA [4800:4850] = 0 overlapping read pairs\n"
       ]
      },
      {
       "output_type": "pyout",
       "prompt_number": 31,
       "text": [
        "3"
       ]
      }
     ],
     "prompt_number": 31
    },
    {
     "cell_type": "markdown",
     "metadata": {},
     "source": [
      "Everything works as expected so far.\n",
      "\n",
      "Now write a new function saying if an interval is overlapping the coordinate store in the instance = is overlapping"
     ]
    },
    {
     "cell_type": "code",
     "collapsed": false,
     "input": [
      "for i in Interval.Instances:\n",
      "    print(i.is_overlapping(\"SSV9K2-CMV-GFP\", 500, 1000))"
     ],
     "language": "python",
     "metadata": {},
     "outputs": [
      {
       "output_type": "stream",
       "stream": "stdout",
       "text": [
        "False\n",
        "False\n",
        "False\n"
       ]
      }
     ],
     "prompt_number": 12
    },
    {
     "cell_type": "code",
     "collapsed": false,
     "input": [
      "for i in Interval.Instances:\n",
      "    print(i.is_overlapping(\"SSV9K2-CMV-GFP-HygroTK-bGHpA\", 500, 1000))"
     ],
     "language": "python",
     "metadata": {},
     "outputs": [
      {
       "output_type": "stream",
       "stream": "stdout",
       "text": [
        "True\n",
        "False\n",
        "False\n"
       ]
      }
     ],
     "prompt_number": 12
    },
    {
     "cell_type": "code",
     "collapsed": false,
     "input": [
      "for i in Interval.Instances:\n",
      "    print(i.is_overlapping(\"SSV9K2-CMV-GFP-HygroTK-bGHpA\", 200, 4200))"
     ],
     "language": "python",
     "metadata": {},
     "outputs": [
      {
       "output_type": "stream",
       "stream": "stdout",
       "text": [
        "True\n",
        "True\n",
        "False\n"
       ]
      }
     ],
     "prompt_number": 9
    },
    {
     "cell_type": "code",
     "collapsed": false,
     "input": [
      "for i in Interval.Instances:\n",
      "    print(i.is_overlapping(\"SSV9K2-CMV-GFP-HygroTK-bGHpA\", 1000, 200))"
     ],
     "language": "python",
     "metadata": {},
     "outputs": [
      {
       "output_type": "stream",
       "stream": "stdout",
       "text": [
        "True\n",
        "False\n",
        "False\n"
       ]
      }
     ],
     "prompt_number": 10
    },
    {
     "cell_type": "code",
     "collapsed": false,
     "input": [
      "for i in Interval.Instances:\n",
      "    print(i.is_overlapping(\"SSV9K2-CMV-GFP-HygroTK-bGHpA\", 6000, 500))"
     ],
     "language": "python",
     "metadata": {},
     "outputs": [
      {
       "output_type": "stream",
       "stream": "stdout",
       "text": [
        "True\n",
        "True\n",
        "True\n"
       ]
      }
     ],
     "prompt_number": 13
    },
    {
     "cell_type": "markdown",
     "metadata": {},
     "source": [
      "The function is working independant of the order of the values.\n",
      "Let's try to use a function to add a read if it is overlapping the interval"
     ]
    },
    {
     "cell_type": "code",
     "collapsed": false,
     "input": [
      "for i in Interval.Instances:\n",
      "    if i.is_overlapping(\"SSV9K2-CMV-GFP-HygroTK-bGHpA\", 4200, 200):\n",
      "        i.add_read(\"NOT A REAL READ\")\n",
      "        print (\"Adding read to {}\".format(repr(i)))\n",
      "Interval.printInstances()"
     ],
     "language": "python",
     "metadata": {},
     "outputs": [
      {
       "output_type": "stream",
       "stream": "stdout",
       "text": [
        "Adding read to SSV9K2-CMV-GFP-HygroTK-bGHpA [200:600] = 1 overlapping read pairs\n",
        "Adding read to SSV9K2-CMV-GFP-HygroTK-bGHpA [4050:4100] = 1 overlapping read pairs\n",
        "SSV9K2-CMV-GFP-HygroTK-bGHpA [200:600] = 1 overlapping read pairs\n",
        "SSV9K2-CMV-GFP-HygroTK-bGHpA [4050:4100] = 1 overlapping read pairs\n",
        "SSV9K2-CMV-GFP-HygroTK-bGHpA [4800:4850] = 0 overlapping read pairs\n"
       ]
      }
     ],
     "prompt_number": 6
    },
    {
     "cell_type": "markdown",
     "metadata": {},
     "source": [
      "Now We'll start to handle sam files using pysam."
     ]
    },
    {
     "cell_type": "code",
     "collapsed": false,
     "input": [
      "i"
     ],
     "language": "python",
     "metadata": {},
     "outputs": [
      {
       "output_type": "pyout",
       "prompt_number": 44,
       "text": [
        "SSV9K2-CMV-GFP-HygroTK-bGHpA [4800:4900] = 0 overlapping read pairs"
       ]
      }
     ],
     "prompt_number": 44
    },
    {
     "cell_type": "code",
     "collapsed": false,
     "input": [
      "sam = pysam.AlignmentFile(\"../test/S1_10.sam\", \"rb\")\n",
      "for a in sam:\n",
      "    if not a.is_unmapped:\n",
      "        print(a.query_name, sam.getrname(a.reference_id), a.reference_start, a.reference_end, a.is_reverse, a.mate_is_reverse)\n",
      "    else:\n",
      "        print(\"Unmapped\")"
     ],
     "language": "python",
     "metadata": {},
     "outputs": [
      {
       "output_type": "stream",
       "stream": "stdout",
       "text": [
        "HWI-1KL149:87:HA58EADXX:1:1101:1531:2163 SSV9K2-CMV-GFP-HygroTK-bGHpA 4949 5050 True False\n",
        "HWI-1KL149:87:HA58EADXX:1:1101:1531:2163 SSV9K2-CMV-GFP-HygroTK-bGHpA 4861 4962 False True\n",
        "Unmapped\n",
        "Unmapped\n",
        "HWI-1KL149:87:HA58EADXX:1:1101:1606:2189 SSV9K2-CMV-GFP-HygroTK-bGHpA 4284 4385 True False\n",
        "HWI-1KL149:87:HA58EADXX:1:1101:1606:2189 SSV9K2-CMV-GFP-HygroTK-bGHpA 4103 4204 False True\n",
        "HWI-1KL149:87:HA58EADXX:1:1101:1752:2238 SSV9K2-CMV-GFP-HygroTK-bGHpA 3031 3132 True False\n",
        "HWI-1KL149:87:HA58EADXX:1:1101:1752:2238 SSV9K2-CMV-GFP-HygroTK-bGHpA 2808 2909 False True\n",
        "HWI-1KL149:87:HA58EADXX:1:1101:1813:2228 SSV9K2-CMV-GFP-HygroTK-bGHpA 4789 4855 True False\n",
        "HWI-1KL149:87:HA58EADXX:1:1101:1813:2228 SSV9K2-CMV-GFP-HygroTK-bGHpA 5465 5504 False False\n"
       ]
      }
     ],
     "prompt_number": 8
    },
    {
     "cell_type": "code",
     "collapsed": false,
     "input": [
      "sam = pysam.AlignmentFile(\"../test/S1_10.sam\", \"rb\")\n",
      "for a in sam:\n",
      "    print (a.query_name)\n",
      "    for i in Interval.Instances:\n",
      "        if not a.is_unmapped:   \n",
      "            read_name = sam.getrname(a.reference_id)\n",
      "            \n",
      "            # Try to see if the read overlap the coordinates\n",
      "            if i.is_overlapping(read_name, a.reference_start, a.reference_end):\n",
      "                i.add_read(a)\n",
      "                print (\"READ OVERLAP\")\n",
      "            \n",
      "            # Else try to see if the pair overlap the coordinates\n",
      "            elif not a.mate_is_unmapped:\n",
      "                mate_name = sam.getrname(a.next_reference_id)\n",
      "                \n",
      "                # Pairs concordantly mapped ############# TO WRAP\n",
      "                if 0 < abs(a.template_length) <= 1000:\n",
      "                    if read_name == mate_name:\n",
      "                        if a.is_reverse != a.mate_is_reverse:\n",
      "                            #\n",
      "                            if i.is_overlapping(read_name, a.reference_start, a.next_reference_start):\n",
      "                                i.add_read(a)\n",
      "                                print (\"PAIR OVERLAP\")\n",
      "                            else:\n",
      "                                print (\"No pair overlap\")\n",
      "                        else:\n",
      "                            print(\"invalid orientation\")\n",
      "                    else:\n",
      "                        print(\"Mate mapped on a different reference\")\n",
      "                else:\n",
      "                    print(\"template exceding size limits\")\n",
      "            else:\n",
      "                print(\"Mate is unmapped\")\n",
      "        \n",
      "        else:\n",
      "            print(\"Unmapped\")"
     ],
     "language": "python",
     "metadata": {},
     "outputs": [
      {
       "output_type": "stream",
       "stream": "stdout",
       "text": [
        "HWI-1KL149:87:HA58EADXX:1:1101:1531:2163\n",
        "No pair overlap\n",
        "No pair overlap\n",
        "No pair overlap\n",
        "HWI-1KL149:87:HA58EADXX:1:1101:1531:2163\n",
        "No pair overlap\n",
        "No pair overlap\n",
        "No pair overlap\n",
        "HWI-1KL149:87:HA58EADXX:1:1101:1744:2169\n",
        "Unmapped\n",
        "Unmapped\n",
        "Unmapped\n",
        "HWI-1KL149:87:HA58EADXX:1:1101:1744:2169\n",
        "Unmapped\n",
        "Unmapped\n",
        "Unmapped\n",
        "HWI-1KL149:87:HA58EADXX:1:1101:1606:2189\n",
        "No pair overlap\n",
        "PAIR OVERLAP\n",
        "No pair overlap\n",
        "HWI-1KL149:87:HA58EADXX:1:1101:1606:2189\n",
        "No pair overlap\n",
        "PAIR OVERLAP\n",
        "No pair overlap\n",
        "HWI-1KL149:87:HA58EADXX:1:1101:1752:2238\n",
        "template exceding size limits\n",
        "template exceding size limits\n",
        "template exceding size limits\n",
        "HWI-1KL149:87:HA58EADXX:1:1101:1752:2238\n",
        "template exceding size limits\n",
        "template exceding size limits\n",
        "template exceding size limits\n",
        "HWI-1KL149:87:HA58EADXX:1:1101:1813:2228\n",
        "Mate mapped on a different reference\n",
        "Mate mapped on a different reference\n",
        "READ OVERLAP\n",
        "HWI-1KL149:87:HA58EADXX:1:1101:1813:2228\n",
        "invalid orientation\n",
        "invalid orientation\n",
        "invalid orientation\n"
       ]
      }
     ],
     "prompt_number": 35
    },
    {
     "cell_type": "code",
     "collapsed": false,
     "input": [
      "Interval.printInstances()"
     ],
     "language": "python",
     "metadata": {},
     "outputs": [
      {
       "output_type": "stream",
       "stream": "stdout",
       "text": [
        "SSV9K2-CMV-GFP-HygroTK-bGHpA [200:600] = 0 overlapping read pairs\n",
        "SSV9K2-CMV-GFP-HygroTK-bGHpA [4050:4100] = 2 overlapping read pairs\n",
        "SSV9K2-CMV-GFP-HygroTK-bGHpA [4800:4850] = 1 overlapping read pairs\n"
       ]
      }
     ],
     "prompt_number": 33
    },
    {
     "cell_type": "code",
     "collapsed": false,
     "input": [
      "for i in Interval.Instances[1].read_list:\n",
      "    print (i.query_name)"
     ],
     "language": "python",
     "metadata": {},
     "outputs": [
      {
       "output_type": "stream",
       "stream": "stdout",
       "text": [
        "HWI-1KL149:87:HA58EADXX:1:1101:1606:2189\n",
        "HWI-1KL149:87:HA58EADXX:1:1101:1606:2189\n",
        "HWI-1KL149:87:HA58EADXX:1:1101:1606:2189\n",
        "HWI-1KL149:87:HA58EADXX:1:1101:1606:2189\n"
       ]
      }
     ],
     "prompt_number": 48
    },
    {
     "cell_type": "markdown",
     "metadata": {},
     "source": [
      "Write a more advanced csv file parser for interval in Find_overlap_read main.\n",
      "\n",
      "The main entry should be directly in the shell since a parsing and verification of argument is done but for the sake of development under interactive IDE is is also possible to import the class and to instanciate with argument interval_file and align_files"
     ]
    },
    {
     "cell_type": "code",
     "collapsed": false,
     "input": [
      "from Find_overlap_read import Main"
     ],
     "language": "python",
     "metadata": {},
     "outputs": [],
     "prompt_number": 1
    },
    {
     "cell_type": "markdown",
     "metadata": {},
     "source": [
      "Example with a file containing valid interval rows"
     ]
    },
    {
     "cell_type": "code",
     "collapsed": false,
     "input": [
      "a = Main(interval_file=\"../test/Good.txt\", align_files=[\"../test/S1_10.sam\"])"
     ],
     "language": "python",
     "metadata": {},
     "outputs": [
      {
       "output_type": "stream",
       "stream": "stdout",
       "text": [
        "interval_file = ../test/Good.txt\n",
        "bam_output = True\n",
        "output_prefix = out\n",
        "align_files = ['../test/S1_10.sam']\n",
        "report_output = True\n",
        "Parsing the CSV csv file containing interval coordinates\n",
        "3 valid interval(s) found in ../test/Good.txt\n",
        "Clearing Reference instances list\n"
       ]
      }
     ],
     "prompt_number": 2
    },
    {
     "cell_type": "markdown",
     "metadata": {},
     "source": [
      "Example with a file containing no valid interval row"
     ]
    },
    {
     "cell_type": "code",
     "collapsed": false,
     "input": [
      "a = Main(interval_file=\"../test/Bad.txt\", align_files=[\"../test/S1_10.sam\"])"
     ],
     "language": "python",
     "metadata": {},
     "outputs": [
      {
       "ename": "ValueError",
       "evalue": "No valid row found in the interval file. Please see readme file",
       "output_type": "pyerr",
       "traceback": [
        "\u001b[0;31m---------------------------------------------------------------------------\u001b[0m\n\u001b[0;31mValueError\u001b[0m                                Traceback (most recent call last)",
        "\u001b[0;32m<ipython-input-3-3d9839474f10>\u001b[0m in \u001b[0;36m<module>\u001b[0;34m()\u001b[0m\n\u001b[0;32m----> 1\u001b[0;31m \u001b[0ma\u001b[0m \u001b[0;34m=\u001b[0m \u001b[0mMain\u001b[0m\u001b[0;34m(\u001b[0m\u001b[0minterval_file\u001b[0m\u001b[0;34m=\u001b[0m\u001b[0;34m\"../test/Bad.txt\"\u001b[0m\u001b[0;34m,\u001b[0m \u001b[0malign_files\u001b[0m\u001b[0;34m=\u001b[0m\u001b[0;34m[\u001b[0m\u001b[0;34m\"../test/S1_10.sam\"\u001b[0m\u001b[0;34m]\u001b[0m\u001b[0;34m)\u001b[0m\u001b[0;34m\u001b[0m\u001b[0m\n\u001b[0m",
        "\u001b[0;32m/media/analyse/Pharmaco_AAV/documents_pharmaco_AAV/Programming/Python/Find_overlap_reads/src/Find_overlap_read.py\u001b[0m in \u001b[0;36m__init__\u001b[0;34m(self, interval_file, align_files, output_prefix, bam_output, report_output)\u001b[0m\n\u001b[1;32m     87\u001b[0m \u001b[0;34m\u001b[0m\u001b[0m\n\u001b[1;32m     88\u001b[0m         \u001b[0;32mif\u001b[0m \u001b[0mInterval\u001b[0m\u001b[0;34m.\u001b[0m\u001b[0mcountInstances\u001b[0m\u001b[0;34m(\u001b[0m\u001b[0;34m)\u001b[0m \u001b[0;34m==\u001b[0m \u001b[0;36m0\u001b[0m\u001b[0;34m:\u001b[0m\u001b[0;34m\u001b[0m\u001b[0m\n\u001b[0;32m---> 89\u001b[0;31m             \u001b[0;32mraise\u001b[0m \u001b[0mValueError\u001b[0m \u001b[0;34m(\u001b[0m\u001b[0;34m\"No valid row found in the interval file. Please see readme file\"\u001b[0m\u001b[0;34m)\u001b[0m\u001b[0;34m\u001b[0m\u001b[0m\n\u001b[0m\u001b[1;32m     90\u001b[0m \u001b[0;34m\u001b[0m\u001b[0m\n\u001b[1;32m     91\u001b[0m         \u001b[0;31m#Interval.printInstances()\u001b[0m\u001b[0;34m\u001b[0m\u001b[0;34m\u001b[0m\u001b[0m\n",
        "\u001b[0;31mValueError\u001b[0m: No valid row found in the interval file. Please see readme file"
       ]
      },
      {
       "output_type": "stream",
       "stream": "stdout",
       "text": [
        "interval_file = ../test/Bad.txt\n",
        "bam_output = True\n",
        "output_prefix = out\n",
        "align_files = ['../test/S1_10.sam']\n",
        "report_output = True\n",
        "Parsing the CSV csv file containing interval coordinates\n",
        "Not enough values in the row \tSkiping row\n",
        "Not enough values in the row \tSkiping row\n",
        "Not enough values in the row \tSkiping row\n",
        "invalid literal for int() with base 10: 'a' \tSkiping row\n",
        "Not enough values in the row \tSkiping row\n"
       ]
      }
     ],
     "prompt_number": 3
    },
    {
     "cell_type": "code",
     "collapsed": false,
     "input": [],
     "language": "python",
     "metadata": {},
     "outputs": []
    }
   ],
   "metadata": {}
  }
 ]
}